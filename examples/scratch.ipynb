{
 "cells": [
  {
   "cell_type": "code",
   "execution_count": 2,
   "metadata": {},
   "outputs": [
    {
     "name": "stdout",
     "output_type": "stream",
     "text": [
      "The autoreload extension is already loaded. To reload it, use:\n",
      "  %reload_ext autoreload\n"
     ]
    }
   ],
   "source": [
    "%load_ext autoreload\n",
    "%autoreload 2\n",
    "from sbrnet_core.sbrnet.model import SBRNet\n",
    "from sbrnet_core.config_loader import load_config\n",
    "import torch\n"
   ]
  },
  {
   "cell_type": "code",
   "execution_count": 25,
   "metadata": {},
   "outputs": [],
   "source": [
    "import os\n",
    "from tifffile import imread\n",
    "import numpy as np\n",
    "from sbrnet_core.sbrnet.dataset import CustomDataset, MySubset\n",
    "import torch\n"
   ]
  },
  {
   "cell_type": "code",
   "execution_count": 31,
   "metadata": {},
   "outputs": [],
   "source": [
    "path = \"/ad/eng/research/eng_research_cisl/jalido/sbrnet/data/training_data/dataset0/\"\n",
    "dataset = CustomDataset(path)\n",
    "train_dataset = MySubset(dataset, is_val=False)\n",
    "\n",
    "index, stack, rfv, gt = train_dataset[365]"
   ]
  },
  {
   "cell_type": "code",
   "execution_count": 36,
   "metadata": {},
   "outputs": [
    {
     "data": {
      "text/plain": [
       "tensor(nan)"
      ]
     },
     "execution_count": 36,
     "metadata": {},
     "output_type": "execute_result"
    }
   ],
   "source": []
  },
  {
   "cell_type": "code",
   "execution_count": 8,
   "metadata": {},
   "outputs": [
    {
     "name": "stdout",
     "output_type": "stream",
     "text": [
      "254.0 0.0\n"
     ]
    }
   ],
   "source": [
    "path = \"/ad/eng/research/eng_research_cisl/jalido/sbrnet/data/training_data/dataset0/\"\n",
    "index = 365\n",
    "rfv = imread(os.path.join(path, f\"stackbg/meas_{index}.tiff\")).astype(\n",
    "            np.float32\n",
    "        )\n",
    "print(rfv.max(), rfv.min())\n",
    "# rfv = (rfv - rfv.min()) / (rfv.max() - rfv.min())\n",
    "# rfv = torch.from_numpy(rfv)"
   ]
  },
  {
   "cell_type": "code",
   "execution_count": 3,
   "metadata": {},
   "outputs": [
    {
     "data": {
      "text/plain": [
       "True"
      ]
     },
     "execution_count": 3,
     "metadata": {},
     "output_type": "execute_result"
    }
   ],
   "source": [
    "#testing remote server NVIDIA GPU is seen\n",
    "torch.cuda.is_available()"
   ]
  },
  {
   "cell_type": "markdown",
   "metadata": {},
   "source": [
    "# quick test"
   ]
  },
  {
   "cell_type": "code",
   "execution_count": null,
   "metadata": {},
   "outputs": [],
   "source": [
    "stack = torch.zeros(2,9,224,224).cuda()\n",
    "rfv = torch.zeros(2,24,224,224).cuda()\n",
    "config = load_config(\"/projectnb/tianlabdl/jalido/sbrnet_proj/configs/config_train.yaml\")\n",
    "m = SBRNet(config).cuda()\n",
    "out = m(stack,rfv)\n",
    "# for name, module in m.named_children():\n",
    "#     print(f\"Name: {name}, Module: {module}\")"
   ]
  }
 ],
 "metadata": {
  "kernelspec": {
   "display_name": "sbrnet",
   "language": "python",
   "name": "python3"
  },
  "language_info": {
   "codemirror_mode": {
    "name": "ipython",
    "version": 3
   },
   "file_extension": ".py",
   "mimetype": "text/x-python",
   "name": "python",
   "nbconvert_exporter": "python",
   "pygments_lexer": "ipython3",
   "version": "3.11.5"
  }
 },
 "nbformat": 4,
 "nbformat_minor": 2
}
